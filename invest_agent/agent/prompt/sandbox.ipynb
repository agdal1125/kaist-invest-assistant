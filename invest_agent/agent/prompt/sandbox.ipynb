{
 "cells": [
  {
   "cell_type": "code",
   "execution_count": 1,
   "id": "95be8dc6",
   "metadata": {},
   "outputs": [],
   "source": [
    "from nh_agent.prompt import SYSTEM_PROMPT\n",
    "from nh_agent.agent.agent import OpenAILLM"
   ]
  },
  {
   "cell_type": "code",
   "execution_count": 2,
   "id": "a459bbb7",
   "metadata": {},
   "outputs": [],
   "source": [
    "Assistant = OpenAILLM(model=\"gpt-4o\", system_prompt=SYSTEM_PROMPT)"
   ]
  },
  {
   "cell_type": "code",
   "execution_count": 3,
   "id": "71f87fac",
   "metadata": {},
   "outputs": [
    {
     "name": "stdout",
     "output_type": "stream",
     "text": [
      "삼성전자를 구매하려면 수량과 가격을 알려주세요.\n",
      "\n"
     ]
    }
   ],
   "source": [
    "content, tool_calls = Assistant.generate(\"삼성전자 구매해줘\")\n",
    "print(content)\n",
    "print(tool_calls)"
   ]
  },
  {
   "cell_type": "code",
   "execution_count": 4,
   "id": "4827f81a",
   "metadata": {},
   "outputs": [
    {
     "name": "stdout",
     "output_type": "stream",
     "text": [
      "None\n",
      "다음 함수를 실행합니다: buy_stocks\n",
      "\t종목명: 삼성전자\n",
      "\t수량: 10\n",
      "\t가격: 50000\n",
      "\n",
      "\n"
     ]
    }
   ],
   "source": [
    "content, tool_calls = Assistant.generate(\"10주를 5만원에 구매할래\")\n",
    "print(content)\n",
    "print(tool_calls)"
   ]
  },
  {
   "cell_type": "code",
   "execution_count": null,
   "id": "80647608",
   "metadata": {},
   "outputs": [],
   "source": [
    "tool_calls[0].function"
   ]
  },
  {
   "cell_type": "code",
   "execution_count": 5,
   "id": "8026458d",
   "metadata": {},
   "outputs": [],
   "source": [
    "Assistant.reset()"
   ]
  },
  {
   "cell_type": "code",
   "execution_count": null,
   "id": "d6c91909",
   "metadata": {},
   "outputs": [],
   "source": [
    "content, tool_calls = Assistant.generate(\"삼성전자 10주 구매해줘\")\n",
    "print(content)\n",
    "print(tool_calls)"
   ]
  },
  {
   "cell_type": "code",
   "execution_count": 1,
   "id": "d75d671a",
   "metadata": {},
   "outputs": [],
   "source": [
    "import nh_agent"
   ]
  }
 ],
 "metadata": {
  "kernelspec": {
   "display_name": "nhagent",
   "language": "python",
   "name": "python3"
  },
  "language_info": {
   "codemirror_mode": {
    "name": "ipython",
    "version": 3
   },
   "file_extension": ".py",
   "mimetype": "text/x-python",
   "name": "python",
   "nbconvert_exporter": "python",
   "pygments_lexer": "ipython3",
   "version": "3.10.16"
  }
 },
 "nbformat": 4,
 "nbformat_minor": 5
}
