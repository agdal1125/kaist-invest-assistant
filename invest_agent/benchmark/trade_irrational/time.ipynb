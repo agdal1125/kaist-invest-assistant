{
 "cells": [
  {
   "cell_type": "code",
   "execution_count": null,
   "id": "25920cd8",
   "metadata": {},
   "outputs": [],
   "source": [
    "import time\n",
    "from datetime import datetime"
   ]
  },
  {
   "cell_type": "code",
   "execution_count": 5,
   "id": "36ce1a32",
   "metadata": {},
   "outputs": [
    {
     "data": {
      "text/plain": [
       "datetime.datetime(2025, 7, 16, 23, 22, 35, 164833)"
      ]
     },
     "execution_count": 5,
     "metadata": {},
     "output_type": "execute_result"
    }
   ],
   "source": [
    "curr_time = datetime.now()\n",
    "curr_time"
   ]
  },
  {
   "cell_type": "code",
   "execution_count": 6,
   "id": "fce72343",
   "metadata": {},
   "outputs": [],
   "source": [
    "curr_time_1 = datetime.now()\n",
    "time.sleep(3)\n",
    "curr_time_2 = datetime.now()"
   ]
  },
  {
   "cell_type": "code",
   "execution_count": 9,
   "id": "48644287",
   "metadata": {},
   "outputs": [
    {
     "data": {
      "text/plain": [
       "'2025-07-16 23:23:09.961780'"
      ]
     },
     "execution_count": 9,
     "metadata": {},
     "output_type": "execute_result"
    }
   ],
   "source": [
    "str(curr_time_1)"
   ]
  },
  {
   "cell_type": "code",
   "execution_count": 10,
   "id": "23ea5cf3",
   "metadata": {},
   "outputs": [
    {
     "ename": "TypeError",
     "evalue": "'str' object cannot be interpreted as an integer",
     "output_type": "error",
     "traceback": [
      "\u001b[0;31m---------------------------------------------------------------------------\u001b[0m",
      "\u001b[0;31mTypeError\u001b[0m                                 Traceback (most recent call last)",
      "Cell \u001b[0;32mIn[10], line 1\u001b[0m\n\u001b[0;32m----> 1\u001b[0m \u001b[43mdatetime\u001b[49m\u001b[43m(\u001b[49m\u001b[38;5;124;43m\"\u001b[39;49m\u001b[38;5;124;43m2025-07-16 23:23\u001b[39;49m\u001b[38;5;124;43m\"\u001b[39;49m\u001b[43m)\u001b[49m\n",
      "\u001b[0;31mTypeError\u001b[0m: 'str' object cannot be interpreted as an integer"
     ]
    }
   ],
   "source": [
    "datetime(\"2025-07-16 23:23\")"
   ]
  },
  {
   "cell_type": "code",
   "execution_count": 11,
   "id": "587dc829",
   "metadata": {},
   "outputs": [
    {
     "data": {
      "text/plain": [
       "datetime.datetime(2025, 7, 16, 23, 23)"
      ]
     },
     "execution_count": 11,
     "metadata": {},
     "output_type": "execute_result"
    }
   ],
   "source": [
    "datetime.strptime(\"2025-07-16 23:23\", \"%Y-%m-%d %H:%M\")"
   ]
  },
  {
   "cell_type": "code",
   "execution_count": 13,
   "id": "1ace8af8",
   "metadata": {},
   "outputs": [
    {
     "data": {
      "text/plain": [
       "'2025-07-17 00:37'"
      ]
     },
     "execution_count": 13,
     "metadata": {},
     "output_type": "execute_result"
    }
   ],
   "source": [
    "time.strftime(\"%Y-%m-%d %H:%M\", time.localtime())"
   ]
  },
  {
   "cell_type": "code",
   "execution_count": 14,
   "id": "d06a3ebe",
   "metadata": {},
   "outputs": [],
   "source": [
    "INVALID_TRADE_PROMPT = \"\"\"현재 시간({curr_time})에서는 해당 주문 코드({order_code})를 사용할 수 없다. 다른 주문 코드를 사용해야한다.\n",
    "\n",
    "현재 시간에 해당 주문코드로 사용가능한 거래소: {valid_exchange}\n",
    "현재 시간에 해당 거래소로 사용가능한 주문코드: {valid_order_code}\n",
    "\n",
    "위 정보를 기반으로 사용자에게 올바른 거래소 혹은 주문코드를 제안하고 물어보라. \n",
    "\"\"\""
   ]
  },
  {
   "cell_type": "code",
   "execution_count": 15,
   "id": "5e65ffd6",
   "metadata": {},
   "outputs": [
    {
     "data": {
      "text/plain": [
       "'현재 시간(08:00)에서는 해당 주문 코드(01)를 사용할 수 없다. 다른 주문 코드를 사용해야한다.\\n\\n현재 시간에 해당 주문코드로 사용가능한 거래소: KRX\\n현재 시간에 해당 거래소로 사용가능한 주문코드: 01, 05, 06, 12, 13, 16, 17, 61, 71, X1, Y1, X5, Y5, X2, Y2, X7, Y7\\n\\n위 정보를 기반으로 사용자에게 올바른 거래소 혹은 주문코드를 제안하고 물어보라. \\n'"
      ]
     },
     "execution_count": 15,
     "metadata": {},
     "output_type": "execute_result"
    }
   ],
   "source": [
    "INVALID_TRADE_PROMPT.format(curr_time=\"08:00\", order_code=\"01\", valid_exchange=\"KRX\", valid_order_code=\"01, 05, 06, 12, 13, 16, 17, 61, 71, X1, Y1, X5, Y5, X2, Y2, X7, Y7\")"
   ]
  },
  {
   "cell_type": "code",
   "execution_count": null,
   "id": "91923990",
   "metadata": {},
   "outputs": [],
   "source": []
  }
 ],
 "metadata": {
  "kernelspec": {
   "display_name": "nhagent",
   "language": "python",
   "name": "python3"
  },
  "language_info": {
   "codemirror_mode": {
    "name": "ipython",
    "version": 3
   },
   "file_extension": ".py",
   "mimetype": "text/x-python",
   "name": "python",
   "nbconvert_exporter": "python",
   "pygments_lexer": "ipython3",
   "version": "3.10.16"
  }
 },
 "nbformat": 4,
 "nbformat_minor": 5
}
