{
 "cells": [
  {
   "cell_type": "code",
   "execution_count": 1,
   "id": "abc609b9",
   "metadata": {},
   "outputs": [],
   "source": [
    "from invest_agent.agent import InvestAgentVer2\n",
    "\n",
    "agent = InvestAgentVer2(model=\"gpt-4.1-mini\", mode=\"trade\")\n",
    "agent.reset()"
   ]
  },
  {
   "cell_type": "code",
   "execution_count": 2,
   "id": "1de41b19",
   "metadata": {},
   "outputs": [],
   "source": [
    "agent.set_time(\"2025-08-27 10:00:00\")"
   ]
  },
  {
   "cell_type": "code",
   "execution_count": 3,
   "id": "5fe776b8",
   "metadata": {},
   "outputs": [
    {
     "name": "stdout",
     "output_type": "stream",
     "text": [
      "['01', '05', '06', '12', '13', '16', '17', '61', '71', 'N7', 'X1', 'X2', 'X5', 'X7', 'Y1', 'Y2', 'Y5', 'Y7']\n"
     ]
    }
   ],
   "source": [
    "vaild_order_code = agent.get_valid_order_code()\n",
    "print(vaild_order_code)"
   ]
  },
  {
   "cell_type": "code",
   "execution_count": 4,
   "id": "c47e5e83",
   "metadata": {},
   "outputs": [
    {
     "name": "stdout",
     "output_type": "stream",
     "text": [
      "안녕하세요, 좋은 하루입니다!\n",
      "현재(2025-08-27 10:00:00) 사용가능하신 주문 방법 아래와 같습니다. \n",
      "\n",
      "[가격 지정 필요 주문 코드]\n",
      "보통가(지정가) | 조건부지정가 | 스톱지정가 | IOC보통가 | FOK보통가\n",
      "\n",
      "[가격 지정 불필요 주문 코드]\n",
      "시장가 | 최유리지정가 | 최우선지정가 | 중간가 | 장전시간외 | 장후시간외 | 종가매매 | IOC최유리 | IOC시장가 | IOC중간가 | FOK최유리 | FOK시장가 | FOK중간가\n",
      "\n",
      "필요한게 있으시면 말씀해주세요!\n",
      "\n"
     ]
    }
   ],
   "source": [
    "initial_guide = agent.get_initial_guide()\n",
    "print(initial_guide)"
   ]
  },
  {
   "cell_type": "code",
   "execution_count": 5,
   "id": "06c1814b",
   "metadata": {},
   "outputs": [
    {
     "data": {
      "text/plain": [
       "{'content': \"보통가 주문은 단가가 필수입니다. 주어진 정보로 보았을 때 단가가 4만원이 맞나요? 그리고 주문코드는 '01'이 맞는지 확인 바랍니다. 확인 후 계속 진행하겠습니다.\",\n",
       " 'tool_result': None,\n",
       " 'tool_result_str': ''}"
      ]
     },
     "execution_count": 5,
     "metadata": {},
     "output_type": "execute_result"
    }
   ],
   "source": [
    "agent.generate(prompt=\"삼성전자 3주 4만원 보통가\")"
   ]
  },
  {
   "cell_type": "code",
   "execution_count": 6,
   "id": "bf66e754",
   "metadata": {},
   "outputs": [
    {
     "data": {
      "text/plain": [
       "{'content': None,\n",
       " 'tool_result': {'function': 'stock_buy',\n",
       "  'arguments': {'order_code': '01',\n",
       "   'quantity': 3,\n",
       "   'price': 40000,\n",
       "   'exchange': 'KRX'}},\n",
       " 'tool_result_str': '다음 함수를 실행합니다: stock_buy\\norder_code: 01\\nquantity: 3\\nprice: 40000\\n\\n거래소: KRX'}"
      ]
     },
     "execution_count": 6,
     "metadata": {},
     "output_type": "execute_result"
    }
   ],
   "source": [
    "agent.generate(prompt=\"맞아\")"
   ]
  },
  {
   "cell_type": "code",
   "execution_count": null,
   "id": "2ac095db",
   "metadata": {},
   "outputs": [],
   "source": [
    "agent.get_valid_exchange(\"01\")"
   ]
  }
 ],
 "metadata": {
  "kernelspec": {
   "display_name": "nhagent",
   "language": "python",
   "name": "python3"
  },
  "language_info": {
   "codemirror_mode": {
    "name": "ipython",
    "version": 3
   },
   "file_extension": ".py",
   "mimetype": "text/x-python",
   "name": "python",
   "nbconvert_exporter": "python",
   "pygments_lexer": "ipython3",
   "version": "3.10.16"
  }
 },
 "nbformat": 4,
 "nbformat_minor": 5
}
